import torch
import torch.nn.functional as F
import matplotlib.pyplot as plt
%matplotlib inline


words = open('names.txt', 'r').read().splitlines()
words[:8], len(words)


chars = sorted(set([c for w in words for c in w]))
stoi = {s:i+1 for i, s in enumerate(chars)}
itos = {i+1:s for i, s in enumerate(chars)}

stoi['.'] = 0
itos[0] = '.'


block_sz = 3

def build_dataset(words):
    X = []
    Y = []
    
    for w in words:
        chs = list(w) + ['.']
        x = [0]*block_sz
        i = 0
        while True:
            y = stoi[chs[i]]
            X.append(x)
            Y.append(y)
            x = x[1:] + [y]
            if itos[y] == '.':break
            i += 1
    X = torch.tensor(X)
    Y = torch.tensor(Y)
    return X, Y

import random
random.seed(42)
random.shuffle(words)
n1 = int(0.8*len(words))
n2 = int(0.9*len(words))
Xtr, Ytr = build_dataset(words[:n1])
Xdev, Ydev = build_dataset(words[n1 : n2])
Xte, Yte = build_dataset(words[n2 :])


vocab_size = len(itos)
n_embd = 10
n_hidden = 200

g = torch.Generator().manual_seed(2147483647)
C = torch.randn((vocab_size, n_embd), generator=g)
W1 = torch.randn((n_embd * block_sz, n_hidden), generator=g) * (5/3) * ((n_embd * block_sz)**0.5) 
# b1 = torch.randn(n_hidden, generator=g) * 0.01
W2 = torch.randn((n_hidden, vocab_size), generator=g) * 0.01
b2 = torch.randn(vocab_size, generator=g) * 0
bngain = torch.ones((1, n_hidden))
bnbias = torch.zeros((1, n_hidden))
bnmean_running = torch.zeros((1, n_hidden))
bnstd_running = torch.ones((1, n_hidden))

parameters = [C, W1, W2, b2, bngain, bnbias]


sum(p.nelement() for p in parameters)


for p in parameters:
    p.requires_grad = True


max_steps = 2000
batch_sz = 32
lossi = []


for i in range(max_steps):
    ix = torch.randint(0, Xtr.shape[0], (batch_sz, ), generator=g)
    emb = C[Xtr[ix]]
    hpreact = emb.view(-1, emb.shape[1]*emb.shape[2]) @ W1 #+ b1
    bnmeani = hpreact.mean(0, keepdim=True)
    bnstdi = hpreact.std(0, keepdim=True)

    with torch.no_grad():
        bnmean_running = 0.999 * bnmean_running + 0.001 * bnmeani
        bnstd_running = 0.999 * bnstd_running + 0.001 * bnstdi 

    hpreact = bngain * (hpreact - bnmeani) / bnstdi + bnbias
    h = torch.tanh(hpreact)
    logits = h @ W2 + b2
    # counts = logits.exp()
    # probs = counts / counts.sum(1, keepdim=True)
    # loss = -probs[torch.arange(probs.shape[0]), Y].log().mean()
    loss = F.cross_entropy(logits, Ytr[ix])
    # print(i, "  ", loss.item())
    
    for p in parameters:
        p.grad = None
    loss.backward() 
    lr = 0.1 if i < 100000 else 0.01 if i < 200000 else 0.001
    for p in parameters:
        p.data += -lr * p.grad

    if i % 10000 == 0:
        print(f'{i:7d}/{max_steps:7d}: {loss.item():.4f}')
    lossi.append(loss.log10().item())

    
# print(i, "  ", loss.item())


plt.plot(lossi)


@torch.no_grad()
def split_loss(split):
    X, Y = {
        'train': (Xtr, Ytr),
        'val': (Xdev, Ydev),
        'test': (Xte, Yte)
    }[split]
    emb = C[X]
    hpreact = emb.view(-1, emb.shape[1]*emb.shape[2]) @ W1
    hpreact = bngain * (hpreact - bnmean_running) / bnstd_running + bnbias
    h = torch.tanh(hpreact)
    logits = h @ W2 + b2
    loss = F.cross_entropy(logits, Y)
    print(split, loss.item())

split_loss('train')
split_loss('val')





g = torch.Generator().manual_seed(2147483647 + 10)
for _ in range(300):
    name = []
    i = 0
    curr = [stoi['.']] * block_sz
    while i < 20:
        emb = C[curr]
        h = torch.tanh(emb.view((30, )) @ W1 )
        logits = h @ W2 + b2
        counts = logits.exp()
        probs = counts / counts.sum()
        pick = torch.multinomial(counts, num_samples=1, replacement=False, generator=g).item()
        if pick == 0: break
        curr = curr[1:] + [pick]
        name += itos[pick]
        i += 1
    
    print(''.join(name), '\n')


class Linear:
    def __init__(self, fan_in, fan_out, bias=True):
        self.weight = torch.randn((fan_in, fan_out), generator = g) / fan_in**0.5
        self.bias = torch.zeros(fan_out) if bias else None

    def __call__(self, X):
        self.out = X @ self.weight
        if self.bias is not None:
            self.out += self.bias
        return self.out

    def parameters(self):
        return [self.weight] + ([] if self.bias is None else [self.bias])

class BatchNorm1d:
    def __init__(self, dim, eps=1e-5, momentum=0.1):
        self.eps = eps
        self.momentum = momentum
        self.training = True
        self.gamma = torch.ones(dim)
        self.beta = torch.zeros(dim)
        self.running_mean = torch.zeros(dim)
        self.running_var = torch.ones(dim)

    def __call__(self, X):
        if self.training:
            Xmean = X.mean(0, keepdim=True)
            Xvar = X.var(0, keepdim=True)
        else:
            Xmean = self.running_mean
            Xvar = self.running_var
        Xhat = (X - Xmean) / torch.sqrt(Xvar + self.eps)
        self.out = self.gamma * Xhat + self.beta
        if self.training:
            with torch.no_grad():
                self.running_mean = (1 - self.momentum) * self.running_mean + self.momentum * Xmean
                self.running_var = (1 - self.momentum) * self.running_var + self.momentum * Xvar
        return self.out

    def parameters(self):
        return [self.gamma, self.beta]


class Tanh:
    def __call__(self, X):
        self.out = torch.tanh(X)
        return self.out

    def parameters(self):
        return []

n_embd = 10
n_hidden = 100
g = torch.Generator().manual_seed(2147483647)

C = torch.randn((vocab_size, n_embd), generator=g)
layers = [
    Linear(n_embd * block_sz, n_hidden), BatchNorm1d(n_hidden), Tanh(),
    Linear(n_hidden, n_hidden), BatchNorm1d(n_hidden), Tanh(),
    Linear(n_hidden, n_hidden), BatchNorm1d(n_hidden), Tanh(),
    Linear(n_hidden, n_hidden), BatchNorm1d(n_hidden), Tanh(),
    Linear(n_hidden, n_hidden), BatchNorm1d(n_hidden), Tanh(),
    Linear(n_hidden, vocab_size), BatchNorm1d(vocab_size)
]

with torch.no_grad():
    layers[-1].gamma *= 0.1
    for layer in layers[:-1]:
        if isinstance(layer, Linear):
            layer.weight *= 5/3
parameters = [C] + [p for layer in layers for p in layer.parameters()]
print(sum(p.nelement() for p in parameters))
for p in parameters:
    p.requires_grad = True


C[Xtr].shape


max_steps = 2000
batch_sz = 32
lossi = []
ud = []


for i in range(max_steps):
    ix = torch.randint(0, Xtr.shape[0], (batch_sz, ), generator=g)
    emb = C[Xtr[ix]]
    X = emb.view(emb.shape[0], -1)
    for layer in layers:
        X = layer(X)
    loss = F.cross_entropy(X, Ytr[ix])
 
    # print(i, "  ", loss.item())

    for layer in layers:
        layer.out.retain_grad()
    
    for p in parameters:
        p.grad = None
    loss.backward() 
    lr = 0.1 if i < 100000 else 0.01 if i < 200000 else 0.001
    for p in parameters:
        p.data += -lr * p.grad

    if i % 10000 == 0:
        print(f'{i:7d}/{max_steps:7d}: {loss.item():.4f}')
    lossi.append(loss.log10().item())
    with torch.no_grad():
        ud.append([(lr*p.grad.std() / p.data.std()).log10().item() for p in parameters])

    if i > 1000:
        break
    
# print(i, "  ", loss.item())


plt.figure(figsize=(20, 4))

for i, layer in enumerate(layers[:-1]):
    if isinstance(layer, Tanh):
        print('layer %d (%10s): mean %+.2f, std %.2f, saturated: %.2f%%' % (i, layer.__class__.__name__, layer.out.mean(), layer.out.std(), (layer.out.abs() > 0.97).float().mean() * 100))
        hy, hx = torch.histogram(layer.out, density=True)
        plt.plot(hx[:-1].detach(), hy.detach())
        


plt.figure(figsize=(20, 4))

for i, p in enumerate(parameters):
    if p.ndim == 2:
        plt.plot([ud[j][i] for j in range(len(ud))])



